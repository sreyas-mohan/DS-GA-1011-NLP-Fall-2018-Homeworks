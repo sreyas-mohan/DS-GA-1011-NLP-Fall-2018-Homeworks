{
 "cells": [
  {
   "cell_type": "code",
   "execution_count": 2,
   "metadata": {},
   "outputs": [],
   "source": [
    "import pandas as pd\n",
    "import numpy as np"
   ]
  },
  {
   "cell_type": "code",
   "execution_count": 8,
   "metadata": {},
   "outputs": [],
   "source": [
    "table = pd.read_csv('sentiment.txt', header=None)"
   ]
  },
  {
   "cell_type": "code",
   "execution_count": 20,
   "metadata": {},
   "outputs": [
    {
     "data": {
      "text/plain": [
       "Int64Index([0, 1, 2, 3, 4, 5, 6, 7, 8, 9], dtype='int64')"
      ]
     },
     "execution_count": 20,
     "metadata": {},
     "output_type": "execute_result"
    }
   ],
   "source": [
    "table.columns"
   ]
  },
  {
   "cell_type": "code",
   "execution_count": 22,
   "metadata": {},
   "outputs": [],
   "source": [
    "table.columns = ['token_scheme', 'n', 'all_until_n', \n",
    "                         'max_vocab_size', 'emb_dim', 'optim', 'lr_schedule', 'train_acc', 'val_acc', 'test_acc']"
   ]
  },
  {
   "cell_type": "code",
   "execution_count": 54,
   "metadata": {},
   "outputs": [
    {
     "data": {
      "text/html": [
       "<div>\n",
       "<style scoped>\n",
       "    .dataframe tbody tr th:only-of-type {\n",
       "        vertical-align: middle;\n",
       "    }\n",
       "\n",
       "    .dataframe tbody tr th {\n",
       "        vertical-align: top;\n",
       "    }\n",
       "\n",
       "    .dataframe thead th {\n",
       "        text-align: right;\n",
       "    }\n",
       "</style>\n",
       "<table border=\"1\" class=\"dataframe\">\n",
       "  <thead>\n",
       "    <tr style=\"text-align: right;\">\n",
       "      <th></th>\n",
       "      <th>token_scheme</th>\n",
       "      <th>n</th>\n",
       "      <th>max_vocab_size</th>\n",
       "      <th>emb_dim</th>\n",
       "      <th>optim</th>\n",
       "      <th>lr_schedule</th>\n",
       "      <th>train_acc</th>\n",
       "      <th>val_acc</th>\n",
       "      <th>test_acc</th>\n",
       "    </tr>\n",
       "  </thead>\n",
       "  <tbody>\n",
       "    <tr>\n",
       "      <th>202</th>\n",
       "      <td>en_core_web_sm</td>\n",
       "      <td>1</td>\n",
       "      <td>25000</td>\n",
       "      <td>100</td>\n",
       "      <td>adam</td>\n",
       "      <td>linear_annealing</td>\n",
       "      <td>100.0</td>\n",
       "      <td>86.00</td>\n",
       "      <td>81.744</td>\n",
       "    </tr>\n",
       "    <tr>\n",
       "      <th>198</th>\n",
       "      <td>en_core_web_sm</td>\n",
       "      <td>1</td>\n",
       "      <td>25000</td>\n",
       "      <td>10</td>\n",
       "      <td>adam</td>\n",
       "      <td>linear_annealing</td>\n",
       "      <td>100.0</td>\n",
       "      <td>85.76</td>\n",
       "      <td>82.092</td>\n",
       "    </tr>\n",
       "    <tr>\n",
       "      <th>205</th>\n",
       "      <td>en_core_web_sm</td>\n",
       "      <td>1</td>\n",
       "      <td>25000</td>\n",
       "      <td>150</td>\n",
       "      <td>adam</td>\n",
       "      <td>constant</td>\n",
       "      <td>100.0</td>\n",
       "      <td>85.68</td>\n",
       "      <td>81.392</td>\n",
       "    </tr>\n",
       "    <tr>\n",
       "      <th>197</th>\n",
       "      <td>en_core_web_sm</td>\n",
       "      <td>1</td>\n",
       "      <td>25000</td>\n",
       "      <td>10</td>\n",
       "      <td>adam</td>\n",
       "      <td>constant</td>\n",
       "      <td>100.0</td>\n",
       "      <td>85.64</td>\n",
       "      <td>82.016</td>\n",
       "    </tr>\n",
       "    <tr>\n",
       "      <th>201</th>\n",
       "      <td>en_core_web_sm</td>\n",
       "      <td>1</td>\n",
       "      <td>25000</td>\n",
       "      <td>100</td>\n",
       "      <td>adam</td>\n",
       "      <td>constant</td>\n",
       "      <td>100.0</td>\n",
       "      <td>85.36</td>\n",
       "      <td>81.600</td>\n",
       "    </tr>\n",
       "  </tbody>\n",
       "</table>\n",
       "</div>"
      ],
      "text/plain": [
       "       token_scheme  n  max_vocab_size  emb_dim optim       lr_schedule  \\\n",
       "202  en_core_web_sm  1           25000      100  adam  linear_annealing   \n",
       "198  en_core_web_sm  1           25000       10  adam  linear_annealing   \n",
       "205  en_core_web_sm  1           25000      150  adam          constant   \n",
       "197  en_core_web_sm  1           25000       10  adam          constant   \n",
       "201  en_core_web_sm  1           25000      100  adam          constant   \n",
       "\n",
       "     train_acc  val_acc  test_acc  \n",
       "202      100.0    86.00    81.744  \n",
       "198      100.0    85.76    82.092  \n",
       "205      100.0    85.68    81.392  \n",
       "197      100.0    85.64    82.016  \n",
       "201      100.0    85.36    81.600  "
      ]
     },
     "execution_count": 54,
     "metadata": {},
     "output_type": "execute_result"
    }
   ],
   "source": [
    "table.sort_values(by=table.columns[8], ascending=False).head(5)[['token_scheme', 'n',  \n",
    "                         'max_vocab_size', 'emb_dim', 'optim', 'lr_schedule', 'train_acc', 'val_acc', 'test_acc']]"
   ]
  },
  {
   "cell_type": "code",
   "execution_count": 55,
   "metadata": {},
   "outputs": [
    {
     "data": {
      "text/html": [
       "<div>\n",
       "<style scoped>\n",
       "    .dataframe tbody tr th:only-of-type {\n",
       "        vertical-align: middle;\n",
       "    }\n",
       "\n",
       "    .dataframe tbody tr th {\n",
       "        vertical-align: top;\n",
       "    }\n",
       "\n",
       "    .dataframe thead th {\n",
       "        text-align: right;\n",
       "    }\n",
       "</style>\n",
       "<table border=\"1\" class=\"dataframe\">\n",
       "  <thead>\n",
       "    <tr style=\"text-align: right;\">\n",
       "      <th></th>\n",
       "      <th>token_scheme</th>\n",
       "      <th>n</th>\n",
       "      <th>max_vocab_size</th>\n",
       "      <th>emb_dim</th>\n",
       "      <th>optim</th>\n",
       "      <th>lr_schedule</th>\n",
       "      <th>train_acc</th>\n",
       "      <th>val_acc</th>\n",
       "      <th>test_acc</th>\n",
       "    </tr>\n",
       "  </thead>\n",
       "  <tbody>\n",
       "    <tr>\n",
       "      <th>31</th>\n",
       "      <td>en_core_web_sm</td>\n",
       "      <td>1</td>\n",
       "      <td>5000</td>\n",
       "      <td>10</td>\n",
       "      <td>sgd</td>\n",
       "      <td>constant</td>\n",
       "      <td>21.800</td>\n",
       "      <td>22.00</td>\n",
       "      <td>33.884</td>\n",
       "    </tr>\n",
       "    <tr>\n",
       "      <th>4</th>\n",
       "      <td>en_core_web_sm</td>\n",
       "      <td>1</td>\n",
       "      <td>1000</td>\n",
       "      <td>10</td>\n",
       "      <td>sgd</td>\n",
       "      <td>linear_annealing</td>\n",
       "      <td>21.770</td>\n",
       "      <td>22.00</td>\n",
       "      <td>22.260</td>\n",
       "    </tr>\n",
       "    <tr>\n",
       "      <th>60</th>\n",
       "      <td>en_core_web_sm</td>\n",
       "      <td>1</td>\n",
       "      <td>10000</td>\n",
       "      <td>10</td>\n",
       "      <td>sgd</td>\n",
       "      <td>linear_annealing</td>\n",
       "      <td>20.715</td>\n",
       "      <td>20.68</td>\n",
       "      <td>40.512</td>\n",
       "    </tr>\n",
       "    <tr>\n",
       "      <th>59</th>\n",
       "      <td>en_core_web_sm</td>\n",
       "      <td>1</td>\n",
       "      <td>10000</td>\n",
       "      <td>10</td>\n",
       "      <td>sgd</td>\n",
       "      <td>constant</td>\n",
       "      <td>20.090</td>\n",
       "      <td>20.44</td>\n",
       "      <td>43.348</td>\n",
       "    </tr>\n",
       "    <tr>\n",
       "      <th>32</th>\n",
       "      <td>en_core_web_sm</td>\n",
       "      <td>1</td>\n",
       "      <td>5000</td>\n",
       "      <td>10</td>\n",
       "      <td>sgd</td>\n",
       "      <td>linear_annealing</td>\n",
       "      <td>20.355</td>\n",
       "      <td>20.36</td>\n",
       "      <td>42.032</td>\n",
       "    </tr>\n",
       "  </tbody>\n",
       "</table>\n",
       "</div>"
      ],
      "text/plain": [
       "      token_scheme  n  max_vocab_size  emb_dim optim       lr_schedule  \\\n",
       "31  en_core_web_sm  1            5000       10   sgd          constant   \n",
       "4   en_core_web_sm  1            1000       10   sgd  linear_annealing   \n",
       "60  en_core_web_sm  1           10000       10   sgd  linear_annealing   \n",
       "59  en_core_web_sm  1           10000       10   sgd          constant   \n",
       "32  en_core_web_sm  1            5000       10   sgd  linear_annealing   \n",
       "\n",
       "    train_acc  val_acc  test_acc  \n",
       "31     21.800    22.00    33.884  \n",
       "4      21.770    22.00    22.260  \n",
       "60     20.715    20.68    40.512  \n",
       "59     20.090    20.44    43.348  \n",
       "32     20.355    20.36    42.032  "
      ]
     },
     "execution_count": 55,
     "metadata": {},
     "output_type": "execute_result"
    }
   ],
   "source": [
    "table.sort_values(by=table.columns[8], ascending=False).tail(5)[['token_scheme', 'n',  \n",
    "                         'max_vocab_size', 'emb_dim', 'optim', 'lr_schedule', 'train_acc', 'val_acc', 'test_acc']]"
   ]
  },
  {
   "cell_type": "markdown",
   "metadata": {},
   "source": [
    "### Tokenization and N-Grams"
   ]
  },
  {
   "cell_type": "code",
   "execution_count": 29,
   "metadata": {},
   "outputs": [],
   "source": [
    "df = table.loc[ (table['optim'] == 'adam') & (table['lr_schedule'] == 'linear_annealing') & (table['emb_dim'] == 100) & (table['max_vocab_size'] == 25000)]"
   ]
  },
  {
   "cell_type": "code",
   "execution_count": 35,
   "metadata": {},
   "outputs": [
    {
     "data": {
      "text/html": [
       "<div>\n",
       "<style scoped>\n",
       "    .dataframe tbody tr th:only-of-type {\n",
       "        vertical-align: middle;\n",
       "    }\n",
       "\n",
       "    .dataframe tbody tr th {\n",
       "        vertical-align: top;\n",
       "    }\n",
       "\n",
       "    .dataframe thead th {\n",
       "        text-align: right;\n",
       "    }\n",
       "</style>\n",
       "<table border=\"1\" class=\"dataframe\">\n",
       "  <thead>\n",
       "    <tr style=\"text-align: right;\">\n",
       "      <th></th>\n",
       "      <th>token_scheme</th>\n",
       "      <th>n</th>\n",
       "      <th>all_until_n</th>\n",
       "      <th>train_acc</th>\n",
       "      <th>val_acc</th>\n",
       "    </tr>\n",
       "  </thead>\n",
       "  <tbody>\n",
       "    <tr>\n",
       "      <th>202</th>\n",
       "      <td>en_core_web_sm</td>\n",
       "      <td>1</td>\n",
       "      <td>False</td>\n",
       "      <td>100.000</td>\n",
       "      <td>86.00</td>\n",
       "    </tr>\n",
       "    <tr>\n",
       "      <th>314</th>\n",
       "      <td>en_core_web_sm</td>\n",
       "      <td>2</td>\n",
       "      <td>True</td>\n",
       "      <td>99.895</td>\n",
       "      <td>83.36</td>\n",
       "    </tr>\n",
       "    <tr>\n",
       "      <th>426</th>\n",
       "      <td>en_core_web_sm</td>\n",
       "      <td>2</td>\n",
       "      <td>False</td>\n",
       "      <td>100.000</td>\n",
       "      <td>83.14</td>\n",
       "    </tr>\n",
       "    <tr>\n",
       "      <th>538</th>\n",
       "      <td>en_core_web_sm</td>\n",
       "      <td>3</td>\n",
       "      <td>True</td>\n",
       "      <td>99.740</td>\n",
       "      <td>82.96</td>\n",
       "    </tr>\n",
       "    <tr>\n",
       "      <th>650</th>\n",
       "      <td>en_core_web_sm</td>\n",
       "      <td>3</td>\n",
       "      <td>False</td>\n",
       "      <td>99.995</td>\n",
       "      <td>77.36</td>\n",
       "    </tr>\n",
       "  </tbody>\n",
       "</table>\n",
       "</div>"
      ],
      "text/plain": [
       "       token_scheme  n  all_until_n  train_acc  val_acc\n",
       "202  en_core_web_sm  1        False    100.000    86.00\n",
       "314  en_core_web_sm  2         True     99.895    83.36\n",
       "426  en_core_web_sm  2        False    100.000    83.14\n",
       "538  en_core_web_sm  3         True     99.740    82.96\n",
       "650  en_core_web_sm  3        False     99.995    77.36"
      ]
     },
     "execution_count": 35,
     "metadata": {},
     "output_type": "execute_result"
    }
   ],
   "source": [
    "df[['token_scheme', 'n', 'all_until_n', 'train_acc', 'val_acc']].sort_values(by='val_acc', ascending=False).head(5)"
   ]
  },
  {
   "cell_type": "code",
   "execution_count": 36,
   "metadata": {},
   "outputs": [
    {
     "data": {
      "text/html": [
       "<div>\n",
       "<style scoped>\n",
       "    .dataframe tbody tr th:only-of-type {\n",
       "        vertical-align: middle;\n",
       "    }\n",
       "\n",
       "    .dataframe tbody tr th {\n",
       "        vertical-align: top;\n",
       "    }\n",
       "\n",
       "    .dataframe thead th {\n",
       "        text-align: right;\n",
       "    }\n",
       "</style>\n",
       "<table border=\"1\" class=\"dataframe\">\n",
       "  <thead>\n",
       "    <tr style=\"text-align: right;\">\n",
       "      <th></th>\n",
       "      <th>token_scheme</th>\n",
       "      <th>n</th>\n",
       "      <th>all_until_n</th>\n",
       "      <th>train_acc</th>\n",
       "      <th>val_acc</th>\n",
       "    </tr>\n",
       "  </thead>\n",
       "  <tbody>\n",
       "    <tr>\n",
       "      <th>90</th>\n",
       "      <td>en_core_web_sm</td>\n",
       "      <td>1</td>\n",
       "      <td>True</td>\n",
       "      <td>99.990</td>\n",
       "      <td>37.10</td>\n",
       "    </tr>\n",
       "    <tr>\n",
       "      <th>650</th>\n",
       "      <td>en_core_web_sm</td>\n",
       "      <td>3</td>\n",
       "      <td>False</td>\n",
       "      <td>99.995</td>\n",
       "      <td>77.36</td>\n",
       "    </tr>\n",
       "    <tr>\n",
       "      <th>538</th>\n",
       "      <td>en_core_web_sm</td>\n",
       "      <td>3</td>\n",
       "      <td>True</td>\n",
       "      <td>99.740</td>\n",
       "      <td>82.96</td>\n",
       "    </tr>\n",
       "    <tr>\n",
       "      <th>426</th>\n",
       "      <td>en_core_web_sm</td>\n",
       "      <td>2</td>\n",
       "      <td>False</td>\n",
       "      <td>100.000</td>\n",
       "      <td>83.14</td>\n",
       "    </tr>\n",
       "    <tr>\n",
       "      <th>314</th>\n",
       "      <td>en_core_web_sm</td>\n",
       "      <td>2</td>\n",
       "      <td>True</td>\n",
       "      <td>99.895</td>\n",
       "      <td>83.36</td>\n",
       "    </tr>\n",
       "  </tbody>\n",
       "</table>\n",
       "</div>"
      ],
      "text/plain": [
       "       token_scheme  n  all_until_n  train_acc  val_acc\n",
       "90   en_core_web_sm  1         True     99.990    37.10\n",
       "650  en_core_web_sm  3        False     99.995    77.36\n",
       "538  en_core_web_sm  3         True     99.740    82.96\n",
       "426  en_core_web_sm  2        False    100.000    83.14\n",
       "314  en_core_web_sm  2         True     99.895    83.36"
      ]
     },
     "execution_count": 36,
     "metadata": {},
     "output_type": "execute_result"
    }
   ],
   "source": [
    "df[['token_scheme', 'n', 'all_until_n', 'train_acc', 'val_acc']].sort_values(by='val_acc', ascending=True).head(5)"
   ]
  },
  {
   "cell_type": "markdown",
   "metadata": {},
   "source": [
    "### Embed Dim"
   ]
  },
  {
   "cell_type": "code",
   "execution_count": 37,
   "metadata": {},
   "outputs": [],
   "source": [
    "df = table.loc[ (table['optim'] == 'adam') & (table['lr_schedule'] == 'linear_annealing') & (table['n'] == 1) & (table['max_vocab_size'] == 25000) & (table['token_scheme'] == 'en_core_web_sm') & (table['all_until_n'] == False) ]"
   ]
  },
  {
   "cell_type": "code",
   "execution_count": 45,
   "metadata": {},
   "outputs": [
    {
     "data": {
      "text/html": [
       "<div>\n",
       "<style scoped>\n",
       "    .dataframe tbody tr th:only-of-type {\n",
       "        vertical-align: middle;\n",
       "    }\n",
       "\n",
       "    .dataframe tbody tr th {\n",
       "        vertical-align: top;\n",
       "    }\n",
       "\n",
       "    .dataframe thead th {\n",
       "        text-align: right;\n",
       "    }\n",
       "</style>\n",
       "<table border=\"1\" class=\"dataframe\">\n",
       "  <thead>\n",
       "    <tr style=\"text-align: right;\">\n",
       "      <th></th>\n",
       "      <th>emb_dim</th>\n",
       "      <th>train_acc</th>\n",
       "      <th>val_acc</th>\n",
       "    </tr>\n",
       "  </thead>\n",
       "  <tbody>\n",
       "    <tr>\n",
       "      <th>202</th>\n",
       "      <td>100</td>\n",
       "      <td>100.000</td>\n",
       "      <td>86.00</td>\n",
       "    </tr>\n",
       "    <tr>\n",
       "      <th>198</th>\n",
       "      <td>10</td>\n",
       "      <td>100.000</td>\n",
       "      <td>85.76</td>\n",
       "    </tr>\n",
       "    <tr>\n",
       "      <th>206</th>\n",
       "      <td>150</td>\n",
       "      <td>100.000</td>\n",
       "      <td>84.96</td>\n",
       "    </tr>\n",
       "    <tr>\n",
       "      <th>222</th>\n",
       "      <td>500</td>\n",
       "      <td>99.735</td>\n",
       "      <td>84.64</td>\n",
       "    </tr>\n",
       "    <tr>\n",
       "      <th>210</th>\n",
       "      <td>200</td>\n",
       "      <td>99.760</td>\n",
       "      <td>84.42</td>\n",
       "    </tr>\n",
       "    <tr>\n",
       "      <th>214</th>\n",
       "      <td>250</td>\n",
       "      <td>99.675</td>\n",
       "      <td>84.42</td>\n",
       "    </tr>\n",
       "    <tr>\n",
       "      <th>218</th>\n",
       "      <td>300</td>\n",
       "      <td>99.780</td>\n",
       "      <td>84.40</td>\n",
       "    </tr>\n",
       "  </tbody>\n",
       "</table>\n",
       "</div>"
      ],
      "text/plain": [
       "     emb_dim  train_acc  val_acc\n",
       "202      100    100.000    86.00\n",
       "198       10    100.000    85.76\n",
       "206      150    100.000    84.96\n",
       "222      500     99.735    84.64\n",
       "210      200     99.760    84.42\n",
       "214      250     99.675    84.42\n",
       "218      300     99.780    84.40"
      ]
     },
     "execution_count": 45,
     "metadata": {},
     "output_type": "execute_result"
    }
   ],
   "source": [
    "df[ ['emb_dim', 'train_acc', 'val_acc'] ].sort_values(by = 'val_acc', ascending=False)"
   ]
  },
  {
   "cell_type": "markdown",
   "metadata": {},
   "source": [
    "### Max Vocab Size"
   ]
  },
  {
   "cell_type": "code",
   "execution_count": 46,
   "metadata": {},
   "outputs": [],
   "source": [
    "df = table.loc[ (table['optim'] == 'adam') & (table['lr_schedule'] == 'linear_annealing') & (table['n'] == 1) & (table['emb_dim'] == 100) & (table['token_scheme'] == 'en_core_web_sm') & (table['all_until_n'] == False) ]"
   ]
  },
  {
   "cell_type": "code",
   "execution_count": 47,
   "metadata": {},
   "outputs": [
    {
     "data": {
      "text/html": [
       "<div>\n",
       "<style scoped>\n",
       "    .dataframe tbody tr th:only-of-type {\n",
       "        vertical-align: middle;\n",
       "    }\n",
       "\n",
       "    .dataframe tbody tr th {\n",
       "        vertical-align: top;\n",
       "    }\n",
       "\n",
       "    .dataframe thead th {\n",
       "        text-align: right;\n",
       "    }\n",
       "</style>\n",
       "<table border=\"1\" class=\"dataframe\">\n",
       "  <thead>\n",
       "    <tr style=\"text-align: right;\">\n",
       "      <th></th>\n",
       "      <th>max_vocab_size</th>\n",
       "      <th>train_acc</th>\n",
       "      <th>val_acc</th>\n",
       "    </tr>\n",
       "  </thead>\n",
       "  <tbody>\n",
       "    <tr>\n",
       "      <th>202</th>\n",
       "      <td>25000</td>\n",
       "      <td>100.000</td>\n",
       "      <td>86.00</td>\n",
       "    </tr>\n",
       "    <tr>\n",
       "      <th>146</th>\n",
       "      <td>5000</td>\n",
       "      <td>95.335</td>\n",
       "      <td>83.78</td>\n",
       "    </tr>\n",
       "    <tr>\n",
       "      <th>174</th>\n",
       "      <td>10000</td>\n",
       "      <td>98.740</td>\n",
       "      <td>83.12</td>\n",
       "    </tr>\n",
       "    <tr>\n",
       "      <th>118</th>\n",
       "      <td>1000</td>\n",
       "      <td>85.340</td>\n",
       "      <td>83.04</td>\n",
       "    </tr>\n",
       "  </tbody>\n",
       "</table>\n",
       "</div>"
      ],
      "text/plain": [
       "     max_vocab_size  train_acc  val_acc\n",
       "202           25000    100.000    86.00\n",
       "146            5000     95.335    83.78\n",
       "174           10000     98.740    83.12\n",
       "118            1000     85.340    83.04"
      ]
     },
     "execution_count": 47,
     "metadata": {},
     "output_type": "execute_result"
    }
   ],
   "source": [
    "df[ ['max_vocab_size', 'train_acc', 'val_acc'] ].sort_values(by = 'val_acc', ascending=False)"
   ]
  },
  {
   "cell_type": "markdown",
   "metadata": {},
   "source": [
    "### Optimizer"
   ]
  },
  {
   "cell_type": "code",
   "execution_count": 48,
   "metadata": {},
   "outputs": [],
   "source": [
    "df = table.loc[ (table['max_vocab_size'] == 25000) & (table['lr_schedule'] == 'linear_annealing') & (table['n'] == 1) & (table['emb_dim'] == 100) & (table['token_scheme'] == 'en_core_web_sm') & (table['all_until_n'] == False) ]"
   ]
  },
  {
   "cell_type": "code",
   "execution_count": 49,
   "metadata": {},
   "outputs": [
    {
     "data": {
      "text/html": [
       "<div>\n",
       "<style scoped>\n",
       "    .dataframe tbody tr th:only-of-type {\n",
       "        vertical-align: middle;\n",
       "    }\n",
       "\n",
       "    .dataframe tbody tr th {\n",
       "        vertical-align: top;\n",
       "    }\n",
       "\n",
       "    .dataframe thead th {\n",
       "        text-align: right;\n",
       "    }\n",
       "</style>\n",
       "<table border=\"1\" class=\"dataframe\">\n",
       "  <thead>\n",
       "    <tr style=\"text-align: right;\">\n",
       "      <th></th>\n",
       "      <th>optim</th>\n",
       "      <th>train_acc</th>\n",
       "      <th>val_acc</th>\n",
       "    </tr>\n",
       "  </thead>\n",
       "  <tbody>\n",
       "    <tr>\n",
       "      <th>202</th>\n",
       "      <td>adam</td>\n",
       "      <td>100.00</td>\n",
       "      <td>86.00</td>\n",
       "    </tr>\n",
       "    <tr>\n",
       "      <th>204</th>\n",
       "      <td>sgd</td>\n",
       "      <td>64.06</td>\n",
       "      <td>64.98</td>\n",
       "    </tr>\n",
       "  </tbody>\n",
       "</table>\n",
       "</div>"
      ],
      "text/plain": [
       "    optim  train_acc  val_acc\n",
       "202  adam     100.00    86.00\n",
       "204   sgd      64.06    64.98"
      ]
     },
     "execution_count": 49,
     "metadata": {},
     "output_type": "execute_result"
    }
   ],
   "source": [
    "df[ ['optim', 'train_acc', 'val_acc'] ].sort_values(by = 'val_acc', ascending=False)"
   ]
  },
  {
   "cell_type": "markdown",
   "metadata": {},
   "source": [
    "### LR Schedule"
   ]
  },
  {
   "cell_type": "code",
   "execution_count": 50,
   "metadata": {},
   "outputs": [],
   "source": [
    "df = table.loc[ (table['optim'] == 'adam') & (table['max_vocab_size'] == 25000) & (table['n'] == 1) & (table['emb_dim'] == 100) & (table['token_scheme'] == 'en_core_web_sm') & (table['all_until_n'] == False) ]"
   ]
  },
  {
   "cell_type": "code",
   "execution_count": 51,
   "metadata": {},
   "outputs": [
    {
     "data": {
      "text/html": [
       "<div>\n",
       "<style scoped>\n",
       "    .dataframe tbody tr th:only-of-type {\n",
       "        vertical-align: middle;\n",
       "    }\n",
       "\n",
       "    .dataframe tbody tr th {\n",
       "        vertical-align: top;\n",
       "    }\n",
       "\n",
       "    .dataframe thead th {\n",
       "        text-align: right;\n",
       "    }\n",
       "</style>\n",
       "<table border=\"1\" class=\"dataframe\">\n",
       "  <thead>\n",
       "    <tr style=\"text-align: right;\">\n",
       "      <th></th>\n",
       "      <th>lr_schedule</th>\n",
       "      <th>train_acc</th>\n",
       "      <th>val_acc</th>\n",
       "    </tr>\n",
       "  </thead>\n",
       "  <tbody>\n",
       "    <tr>\n",
       "      <th>202</th>\n",
       "      <td>linear_annealing</td>\n",
       "      <td>100.0</td>\n",
       "      <td>86.00</td>\n",
       "    </tr>\n",
       "    <tr>\n",
       "      <th>201</th>\n",
       "      <td>constant</td>\n",
       "      <td>100.0</td>\n",
       "      <td>85.36</td>\n",
       "    </tr>\n",
       "  </tbody>\n",
       "</table>\n",
       "</div>"
      ],
      "text/plain": [
       "          lr_schedule  train_acc  val_acc\n",
       "202  linear_annealing      100.0    86.00\n",
       "201          constant      100.0    85.36"
      ]
     },
     "execution_count": 51,
     "metadata": {},
     "output_type": "execute_result"
    }
   ],
   "source": [
    "df[ ['lr_schedule', 'train_acc', 'val_acc'] ].sort_values(by = 'val_acc', ascending=False)"
   ]
  },
  {
   "cell_type": "code",
   "execution_count": null,
   "metadata": {},
   "outputs": [],
   "source": []
  }
 ],
 "metadata": {
  "kernelspec": {
   "display_name": "Python 3",
   "language": "python",
   "name": "python3"
  },
  "language_info": {
   "codemirror_mode": {
    "name": "ipython",
    "version": 3
   },
   "file_extension": ".py",
   "mimetype": "text/x-python",
   "name": "python",
   "nbconvert_exporter": "python",
   "pygments_lexer": "ipython3",
   "version": "3.7.0"
  }
 },
 "nbformat": 4,
 "nbformat_minor": 2
}
