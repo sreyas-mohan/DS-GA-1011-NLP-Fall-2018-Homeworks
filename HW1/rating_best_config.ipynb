{
 "cells": [
  {
   "cell_type": "code",
   "execution_count": 1,
   "metadata": {},
   "outputs": [],
   "source": [
    "import pandas as pd\n",
    "import numpy as np"
   ]
  },
  {
   "cell_type": "code",
   "execution_count": 2,
   "metadata": {},
   "outputs": [],
   "source": [
    "table = pd.read_csv('rating.txt', header=None)"
   ]
  },
  {
   "cell_type": "code",
   "execution_count": 3,
   "metadata": {},
   "outputs": [
    {
     "data": {
      "text/plain": [
       "Int64Index([0, 1, 2, 3, 4, 5, 6, 7, 8, 9], dtype='int64')"
      ]
     },
     "execution_count": 3,
     "metadata": {},
     "output_type": "execute_result"
    }
   ],
   "source": [
    "table.columns"
   ]
  },
  {
   "cell_type": "code",
   "execution_count": 4,
   "metadata": {},
   "outputs": [],
   "source": [
    "table.columns = ['token_scheme', 'n', 'all_until_n', \n",
    "                         'max_vocab_size', 'emb_dim', 'optim', 'lr_schedule', 'train_acc', 'val_acc', 'test_acc']"
   ]
  },
  {
   "cell_type": "code",
   "execution_count": 5,
   "metadata": {},
   "outputs": [
    {
     "data": {
      "text/html": [
       "<div>\n",
       "<style scoped>\n",
       "    .dataframe tbody tr th:only-of-type {\n",
       "        vertical-align: middle;\n",
       "    }\n",
       "\n",
       "    .dataframe tbody tr th {\n",
       "        vertical-align: top;\n",
       "    }\n",
       "\n",
       "    .dataframe thead th {\n",
       "        text-align: right;\n",
       "    }\n",
       "</style>\n",
       "<table border=\"1\" class=\"dataframe\">\n",
       "  <thead>\n",
       "    <tr style=\"text-align: right;\">\n",
       "      <th></th>\n",
       "      <th>token_scheme</th>\n",
       "      <th>n</th>\n",
       "      <th>max_vocab_size</th>\n",
       "      <th>emb_dim</th>\n",
       "      <th>optim</th>\n",
       "      <th>lr_schedule</th>\n",
       "      <th>train_acc</th>\n",
       "      <th>val_acc</th>\n",
       "      <th>test_acc</th>\n",
       "    </tr>\n",
       "  </thead>\n",
       "  <tbody>\n",
       "    <tr>\n",
       "      <th>197</th>\n",
       "      <td>en_core_web_sm</td>\n",
       "      <td>1</td>\n",
       "      <td>25000</td>\n",
       "      <td>10</td>\n",
       "      <td>adam</td>\n",
       "      <td>linear_annealing</td>\n",
       "      <td>99.995</td>\n",
       "      <td>86.38</td>\n",
       "      <td>81.948</td>\n",
       "    </tr>\n",
       "    <tr>\n",
       "      <th>196</th>\n",
       "      <td>en_core_web_sm</td>\n",
       "      <td>1</td>\n",
       "      <td>25000</td>\n",
       "      <td>10</td>\n",
       "      <td>adam</td>\n",
       "      <td>constant</td>\n",
       "      <td>100.000</td>\n",
       "      <td>85.76</td>\n",
       "      <td>82.236</td>\n",
       "    </tr>\n",
       "    <tr>\n",
       "      <th>201</th>\n",
       "      <td>en_core_web_sm</td>\n",
       "      <td>1</td>\n",
       "      <td>25000</td>\n",
       "      <td>100</td>\n",
       "      <td>adam</td>\n",
       "      <td>linear_annealing</td>\n",
       "      <td>100.000</td>\n",
       "      <td>85.66</td>\n",
       "      <td>81.604</td>\n",
       "    </tr>\n",
       "    <tr>\n",
       "      <th>200</th>\n",
       "      <td>en_core_web_sm</td>\n",
       "      <td>1</td>\n",
       "      <td>25000</td>\n",
       "      <td>100</td>\n",
       "      <td>adam</td>\n",
       "      <td>constant</td>\n",
       "      <td>100.000</td>\n",
       "      <td>85.46</td>\n",
       "      <td>81.708</td>\n",
       "    </tr>\n",
       "    <tr>\n",
       "      <th>204</th>\n",
       "      <td>en_core_web_sm</td>\n",
       "      <td>1</td>\n",
       "      <td>25000</td>\n",
       "      <td>150</td>\n",
       "      <td>adam</td>\n",
       "      <td>constant</td>\n",
       "      <td>100.000</td>\n",
       "      <td>85.22</td>\n",
       "      <td>81.412</td>\n",
       "    </tr>\n",
       "  </tbody>\n",
       "</table>\n",
       "</div>"
      ],
      "text/plain": [
       "       token_scheme  n  max_vocab_size  emb_dim optim       lr_schedule  \\\n",
       "197  en_core_web_sm  1           25000       10  adam  linear_annealing   \n",
       "196  en_core_web_sm  1           25000       10  adam          constant   \n",
       "201  en_core_web_sm  1           25000      100  adam  linear_annealing   \n",
       "200  en_core_web_sm  1           25000      100  adam          constant   \n",
       "204  en_core_web_sm  1           25000      150  adam          constant   \n",
       "\n",
       "     train_acc  val_acc  test_acc  \n",
       "197     99.995    86.38    81.948  \n",
       "196    100.000    85.76    82.236  \n",
       "201    100.000    85.66    81.604  \n",
       "200    100.000    85.46    81.708  \n",
       "204    100.000    85.22    81.412  "
      ]
     },
     "execution_count": 5,
     "metadata": {},
     "output_type": "execute_result"
    }
   ],
   "source": [
    "table.sort_values(by=table.columns[8], ascending=False).head(5)[['token_scheme', 'n',  \n",
    "                         'max_vocab_size', 'emb_dim', 'optim', 'lr_schedule', 'train_acc', 'val_acc', 'test_acc']]"
   ]
  },
  {
   "cell_type": "code",
   "execution_count": 19,
   "metadata": {},
   "outputs": [
    {
     "data": {
      "text/html": [
       "<div>\n",
       "<style scoped>\n",
       "    .dataframe tbody tr th:only-of-type {\n",
       "        vertical-align: middle;\n",
       "    }\n",
       "\n",
       "    .dataframe tbody tr th {\n",
       "        vertical-align: top;\n",
       "    }\n",
       "\n",
       "    .dataframe thead th {\n",
       "        text-align: right;\n",
       "    }\n",
       "</style>\n",
       "<table border=\"1\" class=\"dataframe\">\n",
       "  <thead>\n",
       "    <tr style=\"text-align: right;\">\n",
       "      <th></th>\n",
       "      <th>token_scheme</th>\n",
       "      <th>n</th>\n",
       "      <th>all_until_n</th>\n",
       "      <th>max_vocab_size</th>\n",
       "      <th>emb_dim</th>\n",
       "      <th>optim</th>\n",
       "      <th>lr_schedule</th>\n",
       "      <th>train_acc</th>\n",
       "      <th>val_acc</th>\n",
       "      <th>test_acc</th>\n",
       "    </tr>\n",
       "  </thead>\n",
       "  <tbody>\n",
       "    <tr>\n",
       "      <th>819</th>\n",
       "      <td>en_core_web_sm</td>\n",
       "      <td>4</td>\n",
       "      <td>False</td>\n",
       "      <td>5000</td>\n",
       "      <td>100</td>\n",
       "      <td>sgd</td>\n",
       "      <td>linear_annealing</td>\n",
       "      <td>20.505</td>\n",
       "      <td>19.96</td>\n",
       "      <td>20.084</td>\n",
       "    </tr>\n",
       "    <tr>\n",
       "      <th>843</th>\n",
       "      <td>en_core_web_sm</td>\n",
       "      <td>4</td>\n",
       "      <td>False</td>\n",
       "      <td>10000</td>\n",
       "      <td>10</td>\n",
       "      <td>sgd</td>\n",
       "      <td>linear_annealing</td>\n",
       "      <td>20.500</td>\n",
       "      <td>19.96</td>\n",
       "      <td>20.056</td>\n",
       "    </tr>\n",
       "    <tr>\n",
       "      <th>822</th>\n",
       "      <td>en_core_web_sm</td>\n",
       "      <td>4</td>\n",
       "      <td>False</td>\n",
       "      <td>5000</td>\n",
       "      <td>150</td>\n",
       "      <td>sgd</td>\n",
       "      <td>constant</td>\n",
       "      <td>18.690</td>\n",
       "      <td>19.92</td>\n",
       "      <td>20.032</td>\n",
       "    </tr>\n",
       "    <tr>\n",
       "      <th>890</th>\n",
       "      <td>en_core_web_sm</td>\n",
       "      <td>4</td>\n",
       "      <td>False</td>\n",
       "      <td>25000</td>\n",
       "      <td>300</td>\n",
       "      <td>sgd</td>\n",
       "      <td>constant</td>\n",
       "      <td>11.320</td>\n",
       "      <td>10.84</td>\n",
       "      <td>10.288</td>\n",
       "    </tr>\n",
       "    <tr>\n",
       "      <th>887</th>\n",
       "      <td>en_core_web_sm</td>\n",
       "      <td>4</td>\n",
       "      <td>False</td>\n",
       "      <td>25000</td>\n",
       "      <td>250</td>\n",
       "      <td>sgd</td>\n",
       "      <td>linear_annealing</td>\n",
       "      <td>10.270</td>\n",
       "      <td>9.88</td>\n",
       "      <td>9.376</td>\n",
       "    </tr>\n",
       "  </tbody>\n",
       "</table>\n",
       "</div>"
      ],
      "text/plain": [
       "       token_scheme  n  all_until_n  max_vocab_size  emb_dim optim  \\\n",
       "819  en_core_web_sm  4        False            5000      100   sgd   \n",
       "843  en_core_web_sm  4        False           10000       10   sgd   \n",
       "822  en_core_web_sm  4        False            5000      150   sgd   \n",
       "890  en_core_web_sm  4        False           25000      300   sgd   \n",
       "887  en_core_web_sm  4        False           25000      250   sgd   \n",
       "\n",
       "          lr_schedule  train_acc  val_acc  test_acc  \n",
       "819  linear_annealing     20.505    19.96    20.084  \n",
       "843  linear_annealing     20.500    19.96    20.056  \n",
       "822          constant     18.690    19.92    20.032  \n",
       "890          constant     11.320    10.84    10.288  \n",
       "887  linear_annealing     10.270     9.88     9.376  "
      ]
     },
     "execution_count": 19,
     "metadata": {},
     "output_type": "execute_result"
    }
   ],
   "source": [
    "table.sort_values(by=table.columns[8], ascending=False).tail(5)[['token_scheme', 'n', 'all_until_n', \n",
    "                         'max_vocab_size', 'emb_dim', 'optim', 'lr_schedule', 'train_acc', 'val_acc', 'test_acc']]"
   ]
  },
  {
   "cell_type": "markdown",
   "metadata": {},
   "source": [
    "### Tokenization and N-Grams"
   ]
  },
  {
   "cell_type": "code",
   "execution_count": 7,
   "metadata": {},
   "outputs": [],
   "source": [
    "df = table.loc[ (table['optim'] == 'adam') & (table['lr_schedule'] == 'linear_annealing') & (table['emb_dim'] == 100) & (table['max_vocab_size'] == 25000)]"
   ]
  },
  {
   "cell_type": "code",
   "execution_count": 8,
   "metadata": {},
   "outputs": [
    {
     "data": {
      "text/html": [
       "<div>\n",
       "<style scoped>\n",
       "    .dataframe tbody tr th:only-of-type {\n",
       "        vertical-align: middle;\n",
       "    }\n",
       "\n",
       "    .dataframe tbody tr th {\n",
       "        vertical-align: top;\n",
       "    }\n",
       "\n",
       "    .dataframe thead th {\n",
       "        text-align: right;\n",
       "    }\n",
       "</style>\n",
       "<table border=\"1\" class=\"dataframe\">\n",
       "  <thead>\n",
       "    <tr style=\"text-align: right;\">\n",
       "      <th></th>\n",
       "      <th>token_scheme</th>\n",
       "      <th>n</th>\n",
       "      <th>all_until_n</th>\n",
       "      <th>train_acc</th>\n",
       "      <th>val_acc</th>\n",
       "    </tr>\n",
       "  </thead>\n",
       "  <tbody>\n",
       "    <tr>\n",
       "      <th>201</th>\n",
       "      <td>en_core_web_sm</td>\n",
       "      <td>1</td>\n",
       "      <td>False</td>\n",
       "      <td>100.000</td>\n",
       "      <td>85.66</td>\n",
       "    </tr>\n",
       "    <tr>\n",
       "      <th>313</th>\n",
       "      <td>en_core_web_sm</td>\n",
       "      <td>2</td>\n",
       "      <td>True</td>\n",
       "      <td>100.000</td>\n",
       "      <td>83.78</td>\n",
       "    </tr>\n",
       "    <tr>\n",
       "      <th>425</th>\n",
       "      <td>en_core_web_sm</td>\n",
       "      <td>2</td>\n",
       "      <td>False</td>\n",
       "      <td>100.000</td>\n",
       "      <td>83.34</td>\n",
       "    </tr>\n",
       "    <tr>\n",
       "      <th>537</th>\n",
       "      <td>en_core_web_sm</td>\n",
       "      <td>3</td>\n",
       "      <td>True</td>\n",
       "      <td>99.760</td>\n",
       "      <td>83.22</td>\n",
       "    </tr>\n",
       "    <tr>\n",
       "      <th>761</th>\n",
       "      <td>en_core_web_sm</td>\n",
       "      <td>4</td>\n",
       "      <td>True</td>\n",
       "      <td>99.885</td>\n",
       "      <td>83.10</td>\n",
       "    </tr>\n",
       "  </tbody>\n",
       "</table>\n",
       "</div>"
      ],
      "text/plain": [
       "       token_scheme  n  all_until_n  train_acc  val_acc\n",
       "201  en_core_web_sm  1        False    100.000    85.66\n",
       "313  en_core_web_sm  2         True    100.000    83.78\n",
       "425  en_core_web_sm  2        False    100.000    83.34\n",
       "537  en_core_web_sm  3         True     99.760    83.22\n",
       "761  en_core_web_sm  4         True     99.885    83.10"
      ]
     },
     "execution_count": 8,
     "metadata": {},
     "output_type": "execute_result"
    }
   ],
   "source": [
    "df[['token_scheme', 'n', 'all_until_n', 'train_acc', 'val_acc']].sort_values(by='val_acc', ascending=False).head(5)"
   ]
  },
  {
   "cell_type": "code",
   "execution_count": 9,
   "metadata": {},
   "outputs": [
    {
     "data": {
      "text/html": [
       "<div>\n",
       "<style scoped>\n",
       "    .dataframe tbody tr th:only-of-type {\n",
       "        vertical-align: middle;\n",
       "    }\n",
       "\n",
       "    .dataframe tbody tr th {\n",
       "        vertical-align: top;\n",
       "    }\n",
       "\n",
       "    .dataframe thead th {\n",
       "        text-align: right;\n",
       "    }\n",
       "</style>\n",
       "<table border=\"1\" class=\"dataframe\">\n",
       "  <thead>\n",
       "    <tr style=\"text-align: right;\">\n",
       "      <th></th>\n",
       "      <th>token_scheme</th>\n",
       "      <th>n</th>\n",
       "      <th>all_until_n</th>\n",
       "      <th>train_acc</th>\n",
       "      <th>val_acc</th>\n",
       "    </tr>\n",
       "  </thead>\n",
       "  <tbody>\n",
       "    <tr>\n",
       "      <th>873</th>\n",
       "      <td>en_core_web_sm</td>\n",
       "      <td>4</td>\n",
       "      <td>False</td>\n",
       "      <td>98.905</td>\n",
       "      <td>27.56</td>\n",
       "    </tr>\n",
       "    <tr>\n",
       "      <th>89</th>\n",
       "      <td>en_core_web_sm</td>\n",
       "      <td>1</td>\n",
       "      <td>True</td>\n",
       "      <td>99.990</td>\n",
       "      <td>37.18</td>\n",
       "    </tr>\n",
       "    <tr>\n",
       "      <th>649</th>\n",
       "      <td>en_core_web_sm</td>\n",
       "      <td>3</td>\n",
       "      <td>False</td>\n",
       "      <td>99.995</td>\n",
       "      <td>77.08</td>\n",
       "    </tr>\n",
       "    <tr>\n",
       "      <th>761</th>\n",
       "      <td>en_core_web_sm</td>\n",
       "      <td>4</td>\n",
       "      <td>True</td>\n",
       "      <td>99.885</td>\n",
       "      <td>83.10</td>\n",
       "    </tr>\n",
       "    <tr>\n",
       "      <th>537</th>\n",
       "      <td>en_core_web_sm</td>\n",
       "      <td>3</td>\n",
       "      <td>True</td>\n",
       "      <td>99.760</td>\n",
       "      <td>83.22</td>\n",
       "    </tr>\n",
       "  </tbody>\n",
       "</table>\n",
       "</div>"
      ],
      "text/plain": [
       "       token_scheme  n  all_until_n  train_acc  val_acc\n",
       "873  en_core_web_sm  4        False     98.905    27.56\n",
       "89   en_core_web_sm  1         True     99.990    37.18\n",
       "649  en_core_web_sm  3        False     99.995    77.08\n",
       "761  en_core_web_sm  4         True     99.885    83.10\n",
       "537  en_core_web_sm  3         True     99.760    83.22"
      ]
     },
     "execution_count": 9,
     "metadata": {},
     "output_type": "execute_result"
    }
   ],
   "source": [
    "df[['token_scheme', 'n', 'all_until_n', 'train_acc', 'val_acc']].sort_values(by='val_acc', ascending=True).head(5)"
   ]
  },
  {
   "cell_type": "markdown",
   "metadata": {},
   "source": [
    "### Embed Dim"
   ]
  },
  {
   "cell_type": "code",
   "execution_count": 10,
   "metadata": {},
   "outputs": [],
   "source": [
    "df = table.loc[ (table['optim'] == 'adam') & (table['lr_schedule'] == 'linear_annealing') & (table['n'] == 1) & (table['max_vocab_size'] == 25000) & (table['token_scheme'] == 'en_core_web_sm') & (table['all_until_n'] == False) ]"
   ]
  },
  {
   "cell_type": "code",
   "execution_count": 11,
   "metadata": {},
   "outputs": [
    {
     "data": {
      "text/html": [
       "<div>\n",
       "<style scoped>\n",
       "    .dataframe tbody tr th:only-of-type {\n",
       "        vertical-align: middle;\n",
       "    }\n",
       "\n",
       "    .dataframe tbody tr th {\n",
       "        vertical-align: top;\n",
       "    }\n",
       "\n",
       "    .dataframe thead th {\n",
       "        text-align: right;\n",
       "    }\n",
       "</style>\n",
       "<table border=\"1\" class=\"dataframe\">\n",
       "  <thead>\n",
       "    <tr style=\"text-align: right;\">\n",
       "      <th></th>\n",
       "      <th>emb_dim</th>\n",
       "      <th>train_acc</th>\n",
       "      <th>val_acc</th>\n",
       "    </tr>\n",
       "  </thead>\n",
       "  <tbody>\n",
       "    <tr>\n",
       "      <th>197</th>\n",
       "      <td>10</td>\n",
       "      <td>99.995</td>\n",
       "      <td>86.38</td>\n",
       "    </tr>\n",
       "    <tr>\n",
       "      <th>201</th>\n",
       "      <td>100</td>\n",
       "      <td>100.000</td>\n",
       "      <td>85.66</td>\n",
       "    </tr>\n",
       "    <tr>\n",
       "      <th>205</th>\n",
       "      <td>150</td>\n",
       "      <td>100.000</td>\n",
       "      <td>85.20</td>\n",
       "    </tr>\n",
       "    <tr>\n",
       "      <th>217</th>\n",
       "      <td>300</td>\n",
       "      <td>99.915</td>\n",
       "      <td>84.88</td>\n",
       "    </tr>\n",
       "    <tr>\n",
       "      <th>221</th>\n",
       "      <td>500</td>\n",
       "      <td>99.760</td>\n",
       "      <td>84.88</td>\n",
       "    </tr>\n",
       "    <tr>\n",
       "      <th>209</th>\n",
       "      <td>200</td>\n",
       "      <td>99.755</td>\n",
       "      <td>84.38</td>\n",
       "    </tr>\n",
       "    <tr>\n",
       "      <th>213</th>\n",
       "      <td>250</td>\n",
       "      <td>99.765</td>\n",
       "      <td>84.06</td>\n",
       "    </tr>\n",
       "  </tbody>\n",
       "</table>\n",
       "</div>"
      ],
      "text/plain": [
       "     emb_dim  train_acc  val_acc\n",
       "197       10     99.995    86.38\n",
       "201      100    100.000    85.66\n",
       "205      150    100.000    85.20\n",
       "217      300     99.915    84.88\n",
       "221      500     99.760    84.88\n",
       "209      200     99.755    84.38\n",
       "213      250     99.765    84.06"
      ]
     },
     "execution_count": 11,
     "metadata": {},
     "output_type": "execute_result"
    }
   ],
   "source": [
    "df[ ['emb_dim', 'train_acc', 'val_acc'] ].sort_values(by = 'val_acc', ascending=False)"
   ]
  },
  {
   "cell_type": "markdown",
   "metadata": {},
   "source": [
    "### Max Vocab Size"
   ]
  },
  {
   "cell_type": "code",
   "execution_count": 12,
   "metadata": {},
   "outputs": [],
   "source": [
    "df = table.loc[ (table['optim'] == 'adam') & (table['lr_schedule'] == 'linear_annealing') & (table['n'] == 1) & (table['emb_dim'] == 100) & (table['token_scheme'] == 'en_core_web_sm') & (table['all_until_n'] == False) ]"
   ]
  },
  {
   "cell_type": "code",
   "execution_count": 13,
   "metadata": {},
   "outputs": [
    {
     "data": {
      "text/html": [
       "<div>\n",
       "<style scoped>\n",
       "    .dataframe tbody tr th:only-of-type {\n",
       "        vertical-align: middle;\n",
       "    }\n",
       "\n",
       "    .dataframe tbody tr th {\n",
       "        vertical-align: top;\n",
       "    }\n",
       "\n",
       "    .dataframe thead th {\n",
       "        text-align: right;\n",
       "    }\n",
       "</style>\n",
       "<table border=\"1\" class=\"dataframe\">\n",
       "  <thead>\n",
       "    <tr style=\"text-align: right;\">\n",
       "      <th></th>\n",
       "      <th>max_vocab_size</th>\n",
       "      <th>train_acc</th>\n",
       "      <th>val_acc</th>\n",
       "    </tr>\n",
       "  </thead>\n",
       "  <tbody>\n",
       "    <tr>\n",
       "      <th>201</th>\n",
       "      <td>25000</td>\n",
       "      <td>100.000</td>\n",
       "      <td>85.66</td>\n",
       "    </tr>\n",
       "    <tr>\n",
       "      <th>145</th>\n",
       "      <td>5000</td>\n",
       "      <td>95.660</td>\n",
       "      <td>83.66</td>\n",
       "    </tr>\n",
       "    <tr>\n",
       "      <th>173</th>\n",
       "      <td>10000</td>\n",
       "      <td>99.475</td>\n",
       "      <td>83.66</td>\n",
       "    </tr>\n",
       "    <tr>\n",
       "      <th>117</th>\n",
       "      <td>1000</td>\n",
       "      <td>85.565</td>\n",
       "      <td>82.86</td>\n",
       "    </tr>\n",
       "  </tbody>\n",
       "</table>\n",
       "</div>"
      ],
      "text/plain": [
       "     max_vocab_size  train_acc  val_acc\n",
       "201           25000    100.000    85.66\n",
       "145            5000     95.660    83.66\n",
       "173           10000     99.475    83.66\n",
       "117            1000     85.565    82.86"
      ]
     },
     "execution_count": 13,
     "metadata": {},
     "output_type": "execute_result"
    }
   ],
   "source": [
    "df[ ['max_vocab_size', 'train_acc', 'val_acc'] ].sort_values(by = 'val_acc', ascending=False)"
   ]
  },
  {
   "cell_type": "markdown",
   "metadata": {},
   "source": [
    "### Optimizer"
   ]
  },
  {
   "cell_type": "code",
   "execution_count": 14,
   "metadata": {},
   "outputs": [],
   "source": [
    "df = table.loc[ (table['max_vocab_size'] == 25000) & (table['lr_schedule'] == 'linear_annealing') & (table['n'] == 1) & (table['emb_dim'] == 100) & (table['token_scheme'] == 'en_core_web_sm') & (table['all_until_n'] == False) ]"
   ]
  },
  {
   "cell_type": "code",
   "execution_count": 15,
   "metadata": {},
   "outputs": [
    {
     "data": {
      "text/html": [
       "<div>\n",
       "<style scoped>\n",
       "    .dataframe tbody tr th:only-of-type {\n",
       "        vertical-align: middle;\n",
       "    }\n",
       "\n",
       "    .dataframe tbody tr th {\n",
       "        vertical-align: top;\n",
       "    }\n",
       "\n",
       "    .dataframe thead th {\n",
       "        text-align: right;\n",
       "    }\n",
       "</style>\n",
       "<table border=\"1\" class=\"dataframe\">\n",
       "  <thead>\n",
       "    <tr style=\"text-align: right;\">\n",
       "      <th></th>\n",
       "      <th>optim</th>\n",
       "      <th>train_acc</th>\n",
       "      <th>val_acc</th>\n",
       "    </tr>\n",
       "  </thead>\n",
       "  <tbody>\n",
       "    <tr>\n",
       "      <th>201</th>\n",
       "      <td>adam</td>\n",
       "      <td>100.00</td>\n",
       "      <td>85.66</td>\n",
       "    </tr>\n",
       "    <tr>\n",
       "      <th>203</th>\n",
       "      <td>sgd</td>\n",
       "      <td>64.28</td>\n",
       "      <td>63.50</td>\n",
       "    </tr>\n",
       "  </tbody>\n",
       "</table>\n",
       "</div>"
      ],
      "text/plain": [
       "    optim  train_acc  val_acc\n",
       "201  adam     100.00    85.66\n",
       "203   sgd      64.28    63.50"
      ]
     },
     "execution_count": 15,
     "metadata": {},
     "output_type": "execute_result"
    }
   ],
   "source": [
    "df[ ['optim', 'train_acc', 'val_acc'] ].sort_values(by = 'val_acc', ascending=False)"
   ]
  },
  {
   "cell_type": "markdown",
   "metadata": {},
   "source": [
    "### LR Schedule"
   ]
  },
  {
   "cell_type": "code",
   "execution_count": 16,
   "metadata": {},
   "outputs": [],
   "source": [
    "df = table.loc[ (table['optim'] == 'adam') & (table['max_vocab_size'] == 25000) & (table['n'] == 1) & (table['emb_dim'] == 100) & (table['token_scheme'] == 'en_core_web_sm') & (table['all_until_n'] == False) ]"
   ]
  },
  {
   "cell_type": "code",
   "execution_count": 17,
   "metadata": {},
   "outputs": [
    {
     "data": {
      "text/html": [
       "<div>\n",
       "<style scoped>\n",
       "    .dataframe tbody tr th:only-of-type {\n",
       "        vertical-align: middle;\n",
       "    }\n",
       "\n",
       "    .dataframe tbody tr th {\n",
       "        vertical-align: top;\n",
       "    }\n",
       "\n",
       "    .dataframe thead th {\n",
       "        text-align: right;\n",
       "    }\n",
       "</style>\n",
       "<table border=\"1\" class=\"dataframe\">\n",
       "  <thead>\n",
       "    <tr style=\"text-align: right;\">\n",
       "      <th></th>\n",
       "      <th>lr_schedule</th>\n",
       "      <th>train_acc</th>\n",
       "      <th>val_acc</th>\n",
       "    </tr>\n",
       "  </thead>\n",
       "  <tbody>\n",
       "    <tr>\n",
       "      <th>201</th>\n",
       "      <td>linear_annealing</td>\n",
       "      <td>100.0</td>\n",
       "      <td>85.66</td>\n",
       "    </tr>\n",
       "    <tr>\n",
       "      <th>200</th>\n",
       "      <td>constant</td>\n",
       "      <td>100.0</td>\n",
       "      <td>85.46</td>\n",
       "    </tr>\n",
       "  </tbody>\n",
       "</table>\n",
       "</div>"
      ],
      "text/plain": [
       "          lr_schedule  train_acc  val_acc\n",
       "201  linear_annealing      100.0    85.66\n",
       "200          constant      100.0    85.46"
      ]
     },
     "execution_count": 17,
     "metadata": {},
     "output_type": "execute_result"
    }
   ],
   "source": [
    "df[ ['lr_schedule', 'train_acc', 'val_acc'] ].sort_values(by = 'val_acc', ascending=False)"
   ]
  },
  {
   "cell_type": "code",
   "execution_count": null,
   "metadata": {},
   "outputs": [],
   "source": []
  }
 ],
 "metadata": {
  "kernelspec": {
   "display_name": "Python 3",
   "language": "python",
   "name": "python3"
  },
  "language_info": {
   "codemirror_mode": {
    "name": "ipython",
    "version": 3
   },
   "file_extension": ".py",
   "mimetype": "text/x-python",
   "name": "python",
   "nbconvert_exporter": "python",
   "pygments_lexer": "ipython3",
   "version": "3.7.0"
  }
 },
 "nbformat": 4,
 "nbformat_minor": 2
}
