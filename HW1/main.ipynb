{
 "cells": [
  {
   "cell_type": "code",
   "execution_count": 1,
   "metadata": {},
   "outputs": [],
   "source": [
    "import helper_functions as hlp\n",
    "from pytorch_model_and_dataloader import *\n",
    "from sklearn.model_selection import train_test_split\n",
    "import numpy as np\n",
    "import spacy\n",
    "import pickle\n",
    "import os\n",
    "import random"
   ]
  },
  {
   "cell_type": "code",
   "execution_count": 2,
   "metadata": {},
   "outputs": [],
   "source": [
    "import matplotlib.pyplot as plt\n",
    "%matplotlib inline"
   ]
  },
  {
   "cell_type": "code",
   "execution_count": 3,
   "metadata": {},
   "outputs": [],
   "source": [
    "train_path = '../../data/hw1/aclImdb/train'\n",
    "test_path = '../../data/hw1/aclImdb/test'\n",
    "processed_path = './processed'"
   ]
  },
  {
   "cell_type": "code",
   "execution_count": 4,
   "metadata": {},
   "outputs": [],
   "source": [
    "x_train, y_train, x_test, y_test = hlp.load_data(train_path, test_path, return_ratings=True)"
   ]
  },
  {
   "cell_type": "code",
   "execution_count": 5,
   "metadata": {},
   "outputs": [],
   "source": [
    "x_train = x_train[:200] + x_train[-200:];\n",
    "y_train = y_train[:200] + y_train[-200:]\n",
    "x_test = x_test[:100] + x_test[-100:]\n",
    "y_test = y_test[:100] + y_test[-100:]"
   ]
  },
  {
   "cell_type": "code",
   "execution_count": 6,
   "metadata": {},
   "outputs": [],
   "source": [
    "x_train, x_val, y_train, y_val = train_test_split(\n",
    "...     x_train, y_train, test_size=0.2)"
   ]
  },
  {
   "cell_type": "code",
   "execution_count": 27,
   "metadata": {},
   "outputs": [],
   "source": [
    "def plot_acc(train_acc, val_acc, filename):\n",
    "    assert(len(train_acc) == len(val_acc));\n",
    "    \n",
    "    f = plt.figure()\n",
    "    plt.plot(train_acc, label='train');\n",
    "    plt.plot(val_acc, label = 'val');\n",
    "    plt.title(filename);\n",
    "    plt.legend()\n",
    "    \n",
    "    f.savefig(filename + \".pdf\", bbox_inches='tight')\n",
    "    plt.show() "
   ]
  },
  {
   "cell_type": "code",
   "execution_count": 18,
   "metadata": {},
   "outputs": [],
   "source": [
    "def train_and_evaluate(token_scheme, n, all_until_n, max_vocab_size, emb_dim, optim, lr_schedule):\n",
    "\n",
    "    file_name = '_'.join([token_scheme, str(n), str(all_until_n), \n",
    "                         str(max_vocab_size), str(emb_dim), optim, lr_schedule]);\n",
    "    print(file_name)\n",
    "    \n",
    "    learning_rate = 0.01\n",
    "    num_epochs = 10 # number epoch to train\n",
    "    BATCH_SIZE = 32\n",
    "\n",
    "    tokenizer = spacy.load(token_scheme)\n",
    "\n",
    "    val_tokenized_x, val_tokenized_y = hlp.load_tokenized_data(processed_path, 'val', \n",
    "                                                               x_val, y_val, tokenizer, n, token_scheme, all_until_n)\n",
    "    train_tokenized_x, train_tokenized_y = hlp.load_tokenized_data(processed_path, 'train', \n",
    "                                                               x_train, y_train, tokenizer, n, token_scheme, all_until_n)\n",
    "    test_tokenized_x, test_tokenized_y = hlp.load_tokenized_data(processed_path, 'test', \n",
    "                                                               x_test, y_test, tokenizer, n, token_scheme, all_until_n)\n",
    "    all_train_tokens = hlp.load_tokenized_data(processed_path, 'tokens', \n",
    "                                                               x_train, y_train, tokenizer, n, token_scheme, all_until_n)\n",
    "\n",
    "    token2id, id2token = hlp.build_vocab(all_train_tokens, max_vocab_size)\n",
    "\n",
    "    train_data_indices = hlp.token2index_dataset(train_tokenized_x, token2id)\n",
    "    val_data_indices = hlp.token2index_dataset(val_tokenized_x, token2id)\n",
    "    test_data_indices = hlp.token2index_dataset(test_tokenized_x, token2id)\n",
    "\n",
    "    train_dataset = NewsGroupDataset(train_data_indices, train_tokenized_y)\n",
    "    train_loader = torch.utils.data.DataLoader(dataset=train_dataset, \n",
    "                                               batch_size=BATCH_SIZE,\n",
    "                                               collate_fn=newsgroup_collate_func,\n",
    "                                               shuffle=True)\n",
    "\n",
    "    val_dataset = NewsGroupDataset(val_data_indices, val_tokenized_y)\n",
    "    val_loader = torch.utils.data.DataLoader(dataset=val_dataset, \n",
    "                                               batch_size=BATCH_SIZE,\n",
    "                                               collate_fn=newsgroup_collate_func,\n",
    "                                               shuffle=True)\n",
    "\n",
    "    test_dataset = NewsGroupDataset(test_data_indices, test_tokenized_y)\n",
    "    test_loader = torch.utils.data.DataLoader(dataset=test_dataset, \n",
    "                                               batch_size=BATCH_SIZE,\n",
    "                                               collate_fn=newsgroup_collate_func,\n",
    "                                               shuffle=False)\n",
    "\n",
    "\n",
    "    model = BagOfWords(len(id2token), emb_dim)\n",
    "\n",
    "    # Criterion and Optimizer\n",
    "    criterion = torch.nn.CrossEntropyLoss()\n",
    "    if(optim == 'adam'):\n",
    "        optimizer = torch.optim.Adam(model.parameters(), lr=learning_rate)\n",
    "    else:\n",
    "        optimizer = torch.optim.SGD(model.parameters(), lr=learning_rate)\n",
    "\n",
    "    train_acc_array = [];\n",
    "    val_acc_array = [];\n",
    "    for epoch in range(num_epochs):\n",
    "        if(lr_schedule == 'linear_annealing'):\n",
    "            optimizer.defaults['lr'] = learning_rate/(epoch+1);\n",
    "        for i, (data, lengths, labels) in enumerate(train_loader):\n",
    "            model.train()\n",
    "            data_batch, length_batch, label_batch = data, lengths, labels\n",
    "            optimizer.zero_grad()\n",
    "            outputs = model(data_batch, length_batch)\n",
    "            loss = criterion(outputs, label_batch)\n",
    "            loss.backward()\n",
    "            optimizer.step()\n",
    "            # validate every 100 iterations\n",
    "            if i > 0 and i % 1 == 0:\n",
    "                # validate\n",
    "                val_acc = test_model(val_loader, model)\n",
    "                val_acc_array.append(val_acc);\n",
    "                train_acc_array.append(test_model(train_loader, model))\n",
    "                print('Epoch: [{}/{}], Step: [{}/{}], Validation Acc: {}'.format( \n",
    "                           epoch+1, num_epochs, i+1, len(train_loader), val_acc))\n",
    "                \n",
    "    plot_acc(train_acc_array, val_acc_array, file_name)\n",
    "    \n",
    "    print (\"After training for {} epochs\".format(num_epochs))\n",
    "    print (\"Train Acc {}\".format(test_model(train_loader, model)))\n",
    "    print (\"Val Acc {}\".format(test_model(val_loader, model)))\n",
    "    print (\"Test Acc {}\".format(test_model(test_loader, model)))\n",
    "    \n",
    "    return test_model(train_loader, model), test_model(val_loader, model), test_model(test_loader, model)"
   ]
  },
  {
   "cell_type": "code",
   "execution_count": 22,
   "metadata": {},
   "outputs": [],
   "source": [
    "token_scheme_array = ['en_core_web_sm'];\n",
    "n_array = [1];\n",
    "all_until_n_array = [True]\n",
    "max_vocab_size_array = [10000]\n",
    "emb_dim_array = [10, 100]\n",
    "optim_array = ['sgd']\n",
    "lr_schedule_array = ['constant']"
   ]
  },
  {
   "cell_type": "code",
   "execution_count": 28,
   "metadata": {},
   "outputs": [
    {
     "name": "stdout",
     "output_type": "stream",
     "text": [
      "en_core_web_sm_1_True_10000_10_sgd_constant\n",
      "Epoch: [1/10], Step: [2/5], Validation Acc: 0.0\n",
      "Epoch: [1/10], Step: [3/5], Validation Acc: 0.0\n",
      "Epoch: [1/10], Step: [4/5], Validation Acc: 2.5\n",
      "Epoch: [1/10], Step: [5/5], Validation Acc: 2.5\n",
      "Epoch: [2/10], Step: [2/5], Validation Acc: 5.0\n",
      "Epoch: [2/10], Step: [3/5], Validation Acc: 5.0\n",
      "Epoch: [2/10], Step: [4/5], Validation Acc: 5.0\n",
      "Epoch: [2/10], Step: [5/5], Validation Acc: 10.0\n",
      "Epoch: [3/10], Step: [2/5], Validation Acc: 20.0\n",
      "Epoch: [3/10], Step: [3/5], Validation Acc: 27.5\n",
      "Epoch: [3/10], Step: [4/5], Validation Acc: 30.0\n",
      "Epoch: [3/10], Step: [5/5], Validation Acc: 32.5\n",
      "Epoch: [4/10], Step: [2/5], Validation Acc: 45.0\n",
      "Epoch: [4/10], Step: [3/5], Validation Acc: 55.0\n",
      "Epoch: [4/10], Step: [4/5], Validation Acc: 60.0\n",
      "Epoch: [4/10], Step: [5/5], Validation Acc: 67.5\n",
      "Epoch: [5/10], Step: [2/5], Validation Acc: 80.0\n",
      "Epoch: [5/10], Step: [3/5], Validation Acc: 82.5\n",
      "Epoch: [5/10], Step: [4/5], Validation Acc: 85.0\n",
      "Epoch: [5/10], Step: [5/5], Validation Acc: 85.0\n",
      "Epoch: [6/10], Step: [2/5], Validation Acc: 95.0\n",
      "Epoch: [6/10], Step: [3/5], Validation Acc: 97.5\n",
      "Epoch: [6/10], Step: [4/5], Validation Acc: 97.5\n",
      "Epoch: [6/10], Step: [5/5], Validation Acc: 97.5\n",
      "Epoch: [7/10], Step: [2/5], Validation Acc: 100.0\n",
      "Epoch: [7/10], Step: [3/5], Validation Acc: 100.0\n",
      "Epoch: [7/10], Step: [4/5], Validation Acc: 100.0\n",
      "Epoch: [7/10], Step: [5/5], Validation Acc: 100.0\n",
      "Epoch: [8/10], Step: [2/5], Validation Acc: 100.0\n",
      "Epoch: [8/10], Step: [3/5], Validation Acc: 100.0\n",
      "Epoch: [8/10], Step: [4/5], Validation Acc: 100.0\n",
      "Epoch: [8/10], Step: [5/5], Validation Acc: 100.0\n",
      "Epoch: [9/10], Step: [2/5], Validation Acc: 100.0\n",
      "Epoch: [9/10], Step: [3/5], Validation Acc: 100.0\n",
      "Epoch: [9/10], Step: [4/5], Validation Acc: 100.0\n",
      "Epoch: [9/10], Step: [5/5], Validation Acc: 100.0\n",
      "Epoch: [10/10], Step: [2/5], Validation Acc: 100.0\n",
      "Epoch: [10/10], Step: [3/5], Validation Acc: 100.0\n",
      "Epoch: [10/10], Step: [4/5], Validation Acc: 100.0\n",
      "Epoch: [10/10], Step: [5/5], Validation Acc: 100.0\n"
     ]
    },
    {
     "data": {
      "image/png": "[encoded data removed]",
      "text/plain": [
       "<Figure size 432x288 with 1 Axes>"
      ]
     },
     "metadata": {
      "needs_background": "light"
     },
     "output_type": "display_data"
    },
    {
     "name": "stdout",
     "output_type": "stream",
     "text": [
      "After training for 10 epochs\n",
      "Train Acc 100.0\n",
      "Val Acc 100.0\n",
      "Test Acc 100.0\n",
      "en_core_web_sm_1_True_10000_100_sgd_constant\n",
      "Epoch: [1/10], Step: [2/5], Validation Acc: 15.0\n",
      "Epoch: [1/10], Step: [3/5], Validation Acc: 20.0\n",
      "Epoch: [1/10], Step: [4/5], Validation Acc: 27.5\n",
      "Epoch: [1/10], Step: [5/5], Validation Acc: 37.5\n",
      "Epoch: [2/10], Step: [2/5], Validation Acc: 52.5\n",
      "Epoch: [2/10], Step: [3/5], Validation Acc: 57.5\n",
      "Epoch: [2/10], Step: [4/5], Validation Acc: 70.0\n",
      "Epoch: [2/10], Step: [5/5], Validation Acc: 80.0\n",
      "Epoch: [3/10], Step: [2/5], Validation Acc: 90.0\n",
      "Epoch: [3/10], Step: [3/5], Validation Acc: 90.0\n",
      "Epoch: [3/10], Step: [4/5], Validation Acc: 92.5\n",
      "Epoch: [3/10], Step: [5/5], Validation Acc: 92.5\n",
      "Epoch: [4/10], Step: [2/5], Validation Acc: 97.5\n",
      "Epoch: [4/10], Step: [3/5], Validation Acc: 100.0\n",
      "Epoch: [4/10], Step: [4/5], Validation Acc: 100.0\n",
      "Epoch: [4/10], Step: [5/5], Validation Acc: 100.0\n",
      "Epoch: [5/10], Step: [2/5], Validation Acc: 100.0\n",
      "Epoch: [5/10], Step: [3/5], Validation Acc: 100.0\n",
      "Epoch: [5/10], Step: [4/5], Validation Acc: 100.0\n",
      "Epoch: [5/10], Step: [5/5], Validation Acc: 100.0\n",
      "Epoch: [6/10], Step: [2/5], Validation Acc: 100.0\n",
      "Epoch: [6/10], Step: [3/5], Validation Acc: 100.0\n",
      "Epoch: [6/10], Step: [4/5], Validation Acc: 100.0\n",
      "Epoch: [6/10], Step: [5/5], Validation Acc: 100.0\n",
      "Epoch: [7/10], Step: [2/5], Validation Acc: 100.0\n",
      "Epoch: [7/10], Step: [3/5], Validation Acc: 100.0\n",
      "Epoch: [7/10], Step: [4/5], Validation Acc: 100.0\n",
      "Epoch: [7/10], Step: [5/5], Validation Acc: 100.0\n",
      "Epoch: [8/10], Step: [2/5], Validation Acc: 100.0\n",
      "Epoch: [8/10], Step: [3/5], Validation Acc: 100.0\n",
      "Epoch: [8/10], Step: [4/5], Validation Acc: 100.0\n",
      "Epoch: [8/10], Step: [5/5], Validation Acc: 100.0\n",
      "Epoch: [9/10], Step: [2/5], Validation Acc: 100.0\n",
      "Epoch: [9/10], Step: [3/5], Validation Acc: 100.0\n",
      "Epoch: [9/10], Step: [4/5], Validation Acc: 100.0\n",
      "Epoch: [9/10], Step: [5/5], Validation Acc: 100.0\n",
      "Epoch: [10/10], Step: [2/5], Validation Acc: 100.0\n",
      "Epoch: [10/10], Step: [3/5], Validation Acc: 100.0\n",
      "Epoch: [10/10], Step: [4/5], Validation Acc: 100.0\n",
      "Epoch: [10/10], Step: [5/5], Validation Acc: 100.0\n"
     ]
    },
    {
     "data": {
      "image/png": "[encoded data removed]",
      "text/plain": [
       "<Figure size 432x288 with 1 Axes>"
      ]
     },
     "metadata": {
      "needs_background": "light"
     },
     "output_type": "display_data"
    },
    {
     "name": "stdout",
     "output_type": "stream",
     "text": [
      "After training for 10 epochs\n",
      "Train Acc 100.0\n",
      "Val Acc 100.0\n",
      "Test Acc 100.0\n"
     ]
    }
   ],
   "source": [
    "with open('somefile.txt', 'a') as thefile:\n",
    "    for token_scheme in token_scheme_array:\n",
    "        for n in n_array:\n",
    "            for all_until_n in all_until_n_array:\n",
    "                for max_vocab_size in max_vocab_size_array:\n",
    "                    for emb_dim in emb_dim_array:\n",
    "                        for optim in optim_array:\n",
    "                            for lr_schedule in lr_schedule_array:\n",
    "\n",
    "                                train_acc, val_acc, test_acc = train_and_evaluate(token_scheme, n, all_until_n, \n",
    "                                                                                  max_vocab_size, emb_dim, optim, \n",
    "                                                                                  lr_schedule)\n",
    "                                thefile.write(','.join([token_scheme, str(n), str(all_until_n), str(max_vocab_size), \n",
    "                                                 str(emb_dim), optim, lr_schedule, str(train_acc),\n",
    "                                                       str(val_acc), str(test_acc)])+'\\n')"
   ]
  },
  {
   "cell_type": "code",
   "execution_count": null,
   "metadata": {},
   "outputs": [],
   "source": []
  }
 ],
 "metadata": {
  "kernelspec": {
   "display_name": "Python 3",
   "language": "python",
   "name": "python3"
  },
  "language_info": {
   "codemirror_mode": {
    "name": "ipython",
    "version": 3
   },
   "file_extension": ".py",
   "mimetype": "text/x-python",
   "name": "python",
   "nbconvert_exporter": "python",
   "pygments_lexer": "ipython3",
   "version": "3.7.0"
  }
 },
 "nbformat": 4,
 "nbformat_minor": 2
}
